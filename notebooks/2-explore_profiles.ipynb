{
 "cells": [
  {
   "cell_type": "code",
   "execution_count": null,
   "id": "571ed03a",
   "metadata": {},
   "outputs": [],
   "source": [
    "import psycopg2\n",
    "import os\n",
    "from dotenv import load_dotenv\n",
    "\n",
    "load_dotenv()\n",
    "\n",
    "conn = psycopg2.connect(\n",
    "    host=os.getenv(\"PG_HOST\"),\n",
    "    dbname=os.getenv(\"PG_DB\"),\n",
    "    user=os.getenv(\"PG_USER\"),\n",
    "    password=os.getenv(\"PG_PASSWORD\"),\n",
    "    sslmode=os.getenv(\"PG_SSLMODE\")\n",
    ")\n",
    "\n",
    "def show_columns(table):\n",
    "    with conn.cursor() as cur:\n",
    "        cur.execute(\"\"\"\n",
    "            SELECT column_name, data_type\n",
    "            FROM information_schema.columns\n",
    "            WHERE table_schema = 'public' AND table_name = %s\n",
    "            ORDER BY ordinal_position;\n",
    "        \"\"\", (table,))\n",
    "        print(f\"\\n📋 {table.upper()}\")\n",
    "        for name, dtype in cur.fetchall():\n",
    "            print(f\" - {name} ({dtype})\")\n",
    "\n",
    "for t in [\"profiles\", \"experiences\", \"educations\", \"profile_skills\", \"profile_languages\", \"languages\", \"skills\"]:\n",
    "    show_columns(t)\n",
    "\n",
    "conn.close()\n"
   ]
  }
 ],
 "metadata": {
  "kernelspec": {
   "display_name": ".venv (3.12.6)",
   "language": "python",
   "name": "python3"
  },
  "language_info": {
   "name": "python",
   "version": "3.12.6"
  }
 },
 "nbformat": 4,
 "nbformat_minor": 5
}
